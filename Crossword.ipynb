{
 "cells": [
  {
   "cell_type": "code",
   "execution_count": 1,
   "metadata": {},
   "outputs": [],
   "source": [
    "import numpy as np\n",
    "import string\n",
    "import random"
   ]
  },
  {
   "cell_type": "code",
   "execution_count": 115,
   "metadata": {},
   "outputs": [],
   "source": [
    "word=[\"apple\",\"ball\",\"cat\",\"dog\",\"egg\",\"friend\", \"gas\", \"hall\", \"image\", \"jackle\",\"kiss\",\"laugh\",\"math\",\"nose\",\"ostrich\"]"
   ]
  },
  {
   "cell_type": "code",
   "execution_count": 3,
   "metadata": {},
   "outputs": [
    {
     "name": "stdout",
     "output_type": "stream",
     "text": [
      "abcdefghijklmnopqrstuvwxyz\n"
     ]
    }
   ],
   "source": [
    "B=string.ascii_lowercase\n",
    "print(B)"
   ]
  },
  {
   "cell_type": "code",
   "execution_count": 130,
   "metadata": {},
   "outputs": [
    {
     "name": "stdout",
     "output_type": "stream",
     "text": [
      "[['.' '.' '.' '.' '.' '.' '.' '.' '.' '.' '.' '.' '.' '.' '.' '.' '.' '.']\n",
      " ['.' '.' '.' '.' '.' '.' '.' '.' '.' '.' '.' '.' '.' '.' '.' '.' '.' '.']\n",
      " ['.' '.' '.' '.' '.' '.' '.' '.' '.' '.' '.' '.' '.' '.' '.' '.' '.' '.']\n",
      " ['.' '.' '.' '.' '.' '.' '.' '.' '.' '.' '.' '.' '.' '.' '.' '.' '.' '.']\n",
      " ['.' '.' '.' '.' '.' '.' '.' '.' '.' '.' '.' '.' '.' '.' '.' '.' '.' '.']\n",
      " ['.' '.' '.' '.' '.' '.' '.' '.' '.' '.' '.' '.' '.' '.' '.' '.' '.' '.']\n",
      " ['.' '.' '.' '.' '.' '.' '.' '.' '.' '.' '.' '.' '.' '.' '.' '.' '.' '.']\n",
      " ['.' '.' '.' '.' '.' '.' '.' '.' '.' '.' '.' '.' '.' '.' '.' '.' '.' '.']\n",
      " ['.' '.' '.' '.' '.' '.' '.' '.' '.' '.' '.' '.' '.' '.' '.' '.' '.' '.']\n",
      " ['.' '.' '.' '.' '.' '.' '.' '.' '.' '.' '.' '.' '.' '.' '.' '.' '.' '.']\n",
      " ['.' '.' '.' '.' '.' '.' '.' '.' '.' '.' '.' '.' '.' '.' '.' '.' '.' '.']\n",
      " ['.' '.' '.' '.' '.' '.' '.' '.' '.' '.' '.' '.' '.' '.' '.' '.' '.' '.']\n",
      " ['.' '.' '.' '.' '.' '.' '.' '.' '.' '.' '.' '.' '.' '.' '.' '.' '.' '.']\n",
      " ['.' '.' '.' '.' '.' '.' '.' '.' '.' '.' '.' '.' '.' '.' '.' '.' '.' '.']\n",
      " ['.' '.' '.' '.' '.' '.' '.' '.' '.' '.' '.' '.' '.' '.' '.' '.' '.' '.']\n",
      " ['.' '.' '.' '.' '.' '.' '.' '.' '.' '.' '.' '.' '.' '.' '.' '.' '.' '.']\n",
      " ['.' '.' '.' '.' '.' '.' '.' '.' '.' '.' '.' '.' '.' '.' '.' '.' '.' '.']\n",
      " ['.' '.' '.' '.' '.' '.' '.' '.' '.' '.' '.' '.' '.' '.' '.' '.' '.' '.']]\n"
     ]
    }
   ],
   "source": [
    "Arr= np.full((18,18),\".\")\n",
    "print(Arr)"
   ]
  },
  {
   "cell_type": "code",
   "execution_count": 131,
   "metadata": {},
   "outputs": [
    {
     "name": "stdout",
     "output_type": "stream",
     "text": [
      "[['.' '.' '.' '.' '.' '.' '.' '.' '.' '.' '.' '.' '.' '.' '.' '.' '.' '.']\n",
      " ['.' '.' '.' '.' '.' '.' '.' '.' '.' '.' '.' '.' '.' '.' '.' '.' '.' '.']\n",
      " ['.' '.' '.' '.' '.' '.' '.' '.' '.' '.' '.' '.' '.' '.' '.' '.' '.' '.']\n",
      " ['.' '.' '.' '.' '.' '.' '.' '.' '.' '.' '.' '.' '.' '.' '.' '.' '.' '.']\n",
      " ['.' '.' '.' '.' '.' '.' '.' '.' '.' '.' '.' '.' '.' '.' '.' '.' '.' '.']\n",
      " ['.' '.' '.' '.' '.' '.' '.' '.' '.' '.' 'l' '.' '.' '.' '.' '.' '.' '.']\n",
      " ['.' '.' '.' 'i' '.' '.' '.' '.' '.' 'j' 'a' '.' '.' '.' '.' '.' '.' '.']\n",
      " ['o' '.' '.' 'm' '.' '.' '.' '.' '.' 'a' 'u' '.' '.' '.' '.' '.' '.' '.']\n",
      " ['s' '.' 'k' 'a' '.' '.' '.' '.' '.' 'c' 'g' '.' '.' '.' '.' '.' '.' '.']\n",
      " ['t' '.' 'i' 'g' '.' '.' '.' '.' '.' 'k' 'h' '.' '.' '.' '.' '.' '.' '.']\n",
      " ['r' '.' 's' 'e' '.' '.' '.' '.' '.' 'l' '.' '.' 'h' '.' '.' '.' '.' '.']\n",
      " ['i' '.' 's' '.' '.' '.' '.' '.' '.' 'e' '.' '.' 'a' '.' '.' '.' '.' '.']\n",
      " ['c' '.' '.' '.' '.' '.' '.' '.' '.' '.' '.' '.' 'l' 'n' '.' '.' '.' '.']\n",
      " ['h' '.' '.' '.' '.' '.' 'm' '.' '.' '.' '.' '.' 'l' 'o' '.' '.' '.' '.']\n",
      " ['.' '.' '.' '.' '.' '.' 'a' '.' '.' '.' '.' '.' '.' 's' '.' '.' '.' '.']\n",
      " ['.' '.' '.' '.' '.' '.' 't' '.' '.' '.' '.' '.' '.' 'e' '.' '.' '.' '.']\n",
      " ['.' '.' '.' '.' '.' '.' 'h' '.' '.' '.' '.' '.' '.' '.' '.' '.' '.' '.']\n",
      " ['.' '.' '.' '.' '.' '.' '.' '.' '.' '.' '.' '.' '.' '.' '.' '.' '.' '.']]\n"
     ]
    }
   ],
   "source": [
    "#VERTICAL\n",
    "li=random.sample(range(18), 18)\n",
    "for i in range(7,15):\n",
    "    a=word[i]\n",
    "    ale=len(a)\n",
    "    dif=18-ale\n",
    "    cho=random.choice(range(dif))\n",
    "    temp=li[i]\n",
    "    nu=random.choice([1,2])\n",
    "    for j in range(ale):\n",
    "        Arr[j+cho][temp]=word[i][j]\n",
    "print(Arr)"
   ]
  },
  {
   "cell_type": "code",
   "execution_count": 132,
   "metadata": {},
   "outputs": [
    {
     "name": "stdout",
     "output_type": "stream",
     "text": [
      "[['.' 'a' 'p' 'p' 'l' 'e' '.' '.' '.' '.' '.' '.' '.' '.' '.' '.' '.' '.']\n",
      " ['.' '.' '.' '.' '.' '.' 'b' 'a' 'l' 'l' '.' '.' '.' '.' '.' '.' '.' '.']\n",
      " ['.' '.' '.' '.' '.' '.' 'c' 'a' 't' '.' '.' '.' '.' '.' '.' '.' '.' '.']\n",
      " ['.' '.' 'd' 'o' 'g' '.' '.' '.' '.' '.' '.' '.' '.' '.' '.' '.' '.' '.']\n",
      " ['.' '.' '.' '.' '.' 'e' 'g' 'g' '.' '.' '.' '.' '.' '.' '.' '.' '.' '.']\n",
      " ['.' '.' '.' '.' 'f' 'r' 'i' 'e' 'n' 'd' 'l' '.' '.' '.' '.' '.' '.' '.']\n",
      " ['g' 'a' 's' 'i' '.' '.' '.' '.' '.' 'j' 'a' '.' '.' '.' '.' '.' '.' '.']\n",
      " ['o' '.' '.' 'm' '.' '.' '.' '.' '.' 'a' 'u' '.' '.' '.' '.' '.' '.' '.']\n",
      " ['s' '.' 'k' 'a' '.' '.' '.' '.' '.' 'c' 'g' '.' '.' '.' '.' '.' '.' '.']\n",
      " ['t' '.' 'i' 'g' '.' '.' '.' '.' '.' 'k' 'h' '.' '.' '.' '.' '.' '.' '.']\n",
      " ['r' '.' 's' 'e' '.' '.' '.' '.' '.' 'l' '.' '.' 'h' '.' '.' '.' '.' '.']\n",
      " ['i' '.' 's' '.' '.' '.' '.' '.' '.' 'e' '.' '.' 'a' '.' '.' '.' '.' '.']\n",
      " ['c' '.' '.' '.' '.' '.' '.' '.' '.' '.' '.' '.' 'l' 'n' '.' '.' '.' '.']\n",
      " ['h' '.' '.' '.' '.' '.' 'm' '.' '.' '.' '.' '.' 'l' 'o' '.' '.' '.' '.']\n",
      " ['.' '.' '.' '.' '.' '.' 'a' '.' '.' '.' '.' '.' '.' 's' '.' '.' '.' '.']\n",
      " ['.' '.' '.' '.' '.' '.' 't' '.' '.' '.' '.' '.' '.' 'e' '.' '.' '.' '.']\n",
      " ['.' '.' '.' '.' '.' '.' 'h' '.' '.' '.' '.' '.' '.' '.' '.' '.' '.' '.']\n",
      " ['.' '.' '.' '.' '.' '.' '.' '.' '.' '.' '.' '.' '.' '.' '.' '.' '.' '.']]\n"
     ]
    }
   ],
   "source": [
    "#HOR COND2 BEST\n",
    "cou=8\n",
    "wordd=0\n",
    "for i in range(18):\n",
    "    a=word[i]\n",
    "    ale=len(a)\n",
    "    count=0\n",
    "    for l in range(18):\n",
    "        if Arr[i][l]==\".\":\n",
    "            count+=1\n",
    "        else:\n",
    "            break\n",
    "    if count>=ale:\n",
    "        wordd+=1\n",
    "        dif=count-ale\n",
    "        cho=random.choice(range(dif+1))\n",
    "        for j in range(ale):\n",
    "            Arr[i][j+cho]=word[i][j]\n",
    "    if wordd==7:\n",
    "        break\n",
    "print(Arr)"
   ]
  },
  {
   "cell_type": "code",
   "execution_count": 53,
   "metadata": {},
   "outputs": [
    {
     "ename": "IndexError",
     "evalue": "list index out of range",
     "output_type": "error",
     "traceback": [
      "\u001b[1;31m---------------------------------------------------------------------------\u001b[0m",
      "\u001b[1;31mIndexError\u001b[0m                                Traceback (most recent call last)",
      "\u001b[1;32m<ipython-input-53-c64d7fd3c593>\u001b[0m in \u001b[0;36m<module>\u001b[1;34m\u001b[0m\n\u001b[0;32m      7\u001b[0m     \u001b[0ma\u001b[0m\u001b[1;33m=\u001b[0m\u001b[0mword\u001b[0m\u001b[1;33m[\u001b[0m\u001b[0mcou\u001b[0m\u001b[1;33m]\u001b[0m\u001b[1;33m\u001b[0m\u001b[1;33m\u001b[0m\u001b[0m\n\u001b[0;32m      8\u001b[0m     \u001b[0male\u001b[0m\u001b[1;33m=\u001b[0m\u001b[0mlen\u001b[0m\u001b[1;33m(\u001b[0m\u001b[0ma\u001b[0m\u001b[1;33m)\u001b[0m\u001b[1;33m\u001b[0m\u001b[1;33m\u001b[0m\u001b[0m\n\u001b[1;32m----> 9\u001b[1;33m     \u001b[0mtemp\u001b[0m\u001b[1;33m=\u001b[0m\u001b[0mli\u001b[0m\u001b[1;33m[\u001b[0m\u001b[0mcou\u001b[0m\u001b[1;33m]\u001b[0m\u001b[1;33m\u001b[0m\u001b[1;33m\u001b[0m\u001b[0m\n\u001b[0m\u001b[0;32m     10\u001b[0m     \u001b[1;32mfor\u001b[0m \u001b[0mj\u001b[0m \u001b[1;32min\u001b[0m \u001b[0mrange\u001b[0m\u001b[1;33m(\u001b[0m\u001b[0male\u001b[0m\u001b[1;33m)\u001b[0m\u001b[1;33m:\u001b[0m\u001b[1;33m\u001b[0m\u001b[1;33m\u001b[0m\u001b[0m\n\u001b[0;32m     11\u001b[0m         \u001b[0mcheck\u001b[0m\u001b[1;33m=\u001b[0m\u001b[0mArr\u001b[0m\u001b[1;33m[\u001b[0m\u001b[0mi\u001b[0m\u001b[1;33m]\u001b[0m\u001b[1;33m[\u001b[0m\u001b[0mj\u001b[0m\u001b[1;33m]\u001b[0m\u001b[1;33m\u001b[0m\u001b[1;33m\u001b[0m\u001b[0m\n",
      "\u001b[1;31mIndexError\u001b[0m: list index out of range"
     ]
    }
   ],
   "source": [
    "#HORIZONTAL COND1\n",
    "nom=0\n",
    "cou=7\n",
    "for i in range(18):\n",
    "    cou+=1\n",
    "    inc=0\n",
    "    a=word[cou]\n",
    "    ale=len(a)\n",
    "    temp=li[cou]\n",
    "    for j in range(ale):\n",
    "        check=Arr[i][j]\n",
    "        if check==\".\":\n",
    "            inc=+1\n",
    "    if inc>=ale:\n",
    "        nom+=1\n",
    "        for k in range(ale):\n",
    "            Arr[temp][k+cho]=word[i][k]\n",
    "    if nom>=7:\n",
    "        break"
   ]
  },
  {
   "cell_type": "code",
   "execution_count": 92,
   "metadata": {},
   "outputs": [
    {
     "name": "stdout",
     "output_type": "stream",
     "text": [
      "[['.' '.' '.' '.' 'a' 'p' 'p' 'l' 'e' '.' '.' '.' '.' '.' '.' '.' '.' '.']\n",
      " ['.' '.' '.' '.' 'b' 'a' 'l' 'k' 'i' 's' 's' '.' '.' '.' '.' '.' '.' '.']\n",
      " ['c' 'a' 't' '.' '.' '.' 'p' 'l' 'a' 'n' 't' '.' 'b' '.' 'c' '.' '.' '.']\n",
      " ['.' '.' '.' 'e' '.' '.' '.' '.' 'g' '.' '.' '.' 'a' '.' 'a' '.' '.' '.']\n",
      " ['.' '.' '.' 'g' '.' '.' '.' '.' 'a' '.' '.' '.' 'i' 'm' 'a' 'g' 'e' '.']\n",
      " ['.' '.' '.' 'g' '.' '.' '.' '.' 's' '.' 'j' 'a' 'c' 'k' 'l' 'e' '.' '.']\n",
      " ['.' '.' '.' '.' '.' '.' 'f' '.' '.' '.' '.' '.' '.' '.' '.' '.' '.' 'a']\n",
      " ['.' '.' '.' '.' '.' '.' 'r' 'd' '.' '.' '.' '.' '.' '.' '.' '.' '.' 'p']\n",
      " ['.' '.' '.' '.' '.' '.' 'i' 'o' '.' '.' '.' '.' '.' '.' '.' '.' '.' 'p']\n",
      " ['h' '.' '.' '.' '.' '.' 'e' 'g' '.' '.' '.' '.' '.' '.' '.' '.' '.' 'l']\n",
      " ['a' '.' 'm' 'a' 't' 'h' 'n' '.' '.' '.' '.' '.' '.' '.' '.' '.' '.' 'e']\n",
      " ['l' '.' '.' '.' '.' '.' 'd' '.' '.' '.' '.' '.' '.' '.' '.' '.' '.' '.']\n",
      " ['l' '.' '.' '.' '.' '.' '.' '.' '.' '.' '.' '.' '.' '.' '.' '.' '.' '.']\n",
      " ['.' '.' '.' '.' '.' '.' '.' '.' 'n' 'o' 's' 'e' '.' '.' '.' '.' '.' '.']\n",
      " ['.' '.' '.' '.' '.' '.' '.' '.' '.' '.' '.' '.' '.' '.' '.' '.' '.' '.']\n",
      " ['.' 'l' 'a' 'u' 'g' 'h' '.' '.' '.' '.' '.' '.' '.' '.' '.' '.' '.' '.']\n",
      " ['.' '.' '.' '.' '.' '.' '.' '.' '.' '.' '.' '.' '.' '.' '.' '.' '.' '.']\n",
      " ['.' '.' '.' '.' '.' '.' '.' '.' '.' '.' '.' '.' '.' '.' '.' '.' '.' '.']]\n"
     ]
    }
   ],
   "source": [
    "#HORIZONTAL\n",
    "# li=random.sample(range(10), 10)\n",
    "cou=8\n",
    "for i in range(8,15):\n",
    "    a=word[i]\n",
    "    ale=len(a)\n",
    "    dif=18-ale\n",
    "    cho=random.choice(range(dif))\n",
    "    temp=li[cou]\n",
    "    cou+=1\n",
    "    nu=random.choice([1,2])\n",
    "    for j in range(ale):\n",
    "        Arr[temp][j+cho]=word[i][j]\n",
    "print(Arr)"
   ]
  },
  {
   "cell_type": "code",
   "execution_count": 133,
   "metadata": {
    "scrolled": true
   },
   "outputs": [
    {
     "name": "stdout",
     "output_type": "stream",
     "text": [
      "[['x' 'a' 'p' 'p' 'l' 'e' 'x' 'h' 'h' 'd' 'a' 'y' 'x' 'b' 'f' 'z' 'a' 'h']\n",
      " ['e' 'o' 'h' 'n' 'a' 'w' 'b' 'a' 'l' 'l' 't' 'm' 'm' 'g' 'z' 'e' 'f' 'r']\n",
      " ['h' 'r' 'f' 't' 'c' 'a' 'c' 'a' 't' 'k' 'z' 'e' 'q' 'i' 'e' 'h' 'h' 'e']\n",
      " ['z' 'y' 'd' 'o' 'g' 'g' 'z' 's' 'v' 'b' 'k' 'j' 'w' 'a' 't' 'm' 'f' 'p']\n",
      " ['c' 's' 'w' 'e' 'q' 'e' 'g' 'g' 'v' 'u' 'i' 'g' 'b' 'v' 'p' 'q' 'd' 'g']\n",
      " ['j' 'g' 'o' 'h' 'f' 'r' 'i' 'e' 'n' 'd' 'l' 'n' 'p' 'q' 'y' 'n' 'c' 'd']\n",
      " ['g' 'a' 's' 'i' 'a' 'o' 'e' 'j' 'z' 'j' 'a' 'n' 'm' 'a' 'q' 'd' 'b' 'v']\n",
      " ['o' 'z' 'm' 'm' 's' 't' 'b' 'z' 'd' 'a' 'u' 'o' 'q' 'm' 'm' 'd' 'z' 'v']\n",
      " ['s' 's' 'k' 'a' 'c' 'g' 's' 'i' 'h' 'c' 'g' 'p' 'a' 'x' 'n' 'k' 'q' 'j']\n",
      " ['t' 'x' 'i' 'g' 'f' 'w' 'a' 'x' 'm' 'k' 'h' 'd' 'o' 'd' 'r' 'u' 's' 'w']\n",
      " ['r' 'q' 's' 'e' 'a' 'd' 'r' 'y' 'l' 'l' 'l' 'i' 'h' 'u' 'h' 'c' 'a' 'o']\n",
      " ['i' 'a' 's' 'k' 'p' 'q' 'g' 'z' 'a' 'e' 'g' 'y' 'a' 'i' 'y' 'v' 'b' 'f']\n",
      " ['c' 'i' 'f' 'r' 'd' 'g' 's' 'y' 'e' 'u' 'v' 'c' 'l' 'n' 'o' 's' 'g' 'k']\n",
      " ['h' 'r' 't' 'i' 'c' 'l' 'm' 'u' 'e' 'b' 't' 'h' 'l' 'o' 'v' 'h' 'b' 'f']\n",
      " ['n' 'r' 'a' 'n' 'a' 'g' 'a' 'w' 'b' 'p' 't' 'f' 'k' 's' 'p' 't' 'c' 'y']\n",
      " ['k' 'd' 'h' 'o' 'p' 'x' 't' 'o' 'h' 'u' 'g' 'q' 'w' 'e' 't' 'm' 'g' 'o']\n",
      " ['d' 'z' 't' 'c' 'r' 'b' 'h' 'q' 'm' 'w' 'n' 's' 'p' 'o' 'u' 'v' 'k' 'h']\n",
      " ['q' 'q' 'e' 'g' 't' 'r' 'v' 'i' 'e' 'x' 'u' 'c' 'c' 'b' 'v' 'p' 'p' 'q']]\n"
     ]
    }
   ],
   "source": [
    "for i in range(18):\n",
    "    for j in range(18):\n",
    "            while(Arr[i][j]==\".\"):\n",
    "                Arr[i][j]=random.choice(B)\n",
    "print(Arr)"
   ]
  },
  {
   "cell_type": "code",
   "execution_count": 91,
   "metadata": {},
   "outputs": [
    {
     "data": {
      "text/plain": [
       "0"
      ]
     },
     "execution_count": 91,
     "metadata": {},
     "output_type": "execute_result"
    }
   ],
   "source": [
    "random.choice(range(1))"
   ]
  },
  {
   "cell_type": "code",
   "execution_count": 135,
   "metadata": {},
   "outputs": [
    {
     "name": "stdout",
     "output_type": "stream",
     "text": [
      "[4, 9, 7, 6, 5, 0, 3, 8, 1, 2]\n"
     ]
    },
    {
     "data": {
      "text/plain": [
       "7"
      ]
     },
     "execution_count": 135,
     "metadata": {},
     "output_type": "execute_result"
    }
   ],
   "source": [
    "li=random.sample(range(10), 10)\n",
    "print(li)\n",
    "li[2]"
   ]
  }
 ],
 "metadata": {
  "kernelspec": {
   "display_name": "Python 3",
   "language": "python",
   "name": "python3"
  },
  "language_info": {
   "codemirror_mode": {
    "name": "ipython",
    "version": 3
   },
   "file_extension": ".py",
   "mimetype": "text/x-python",
   "name": "python",
   "nbconvert_exporter": "python",
   "pygments_lexer": "ipython3",
   "version": "3.7.6"
  }
 },
 "nbformat": 4,
 "nbformat_minor": 4
}
