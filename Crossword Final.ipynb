{
 "cells": [
  {
   "cell_type": "markdown",
   "metadata": {},
   "source": [
    "18 x 18 Crossword Puzzle Generator with 15 words from the user"
   ]
  },
  {
   "cell_type": "code",
   "execution_count": 4,
   "metadata": {},
   "outputs": [],
   "source": [
    "import numpy as np\n",
    "import string\n",
    "import random"
   ]
  },
  {
   "cell_type": "code",
   "execution_count": 5,
   "metadata": {},
   "outputs": [
    {
     "name": "stdout",
     "output_type": "stream",
     "text": [
      "['APPLE', 'BALL', 'CAT', 'DOG', 'EGG', 'FRIEND', 'GAS', 'HALL', 'IMAGE', 'JACKLE', 'KISS', 'LAUGH', 'MATH', 'NOSE', 'OSTRICH']\n"
     ]
    }
   ],
   "source": [
    "#An input of 15 words is taken from the user in the app. Here, I have taken 15 sample words of my choice.\n",
    "word=[\"apple\",\"ball\",\"cat\",\"dog\",\"egg\",\"friend\", \"gas\", \"hall\", \"image\", \"jackle\",\"kiss\",\"laugh\",\"math\",\"nose\",\"ostrich\"]\n",
    "sp=\" \"\n",
    "word=sp.join(word) #Makes the list a sting\n",
    "word=word.upper() #Turns into uppercase\n",
    "word=word.split(\" \") #user may enter in any case, so converting to uppercase\n",
    "print(word)"
   ]
  },
  {
   "cell_type": "code",
   "execution_count": 6,
   "metadata": {},
   "outputs": [
    {
     "name": "stdout",
     "output_type": "stream",
     "text": [
      "ABCDEFGHIJKLMNOPQRSTUVWXYZ\n"
     ]
    }
   ],
   "source": [
    "#A-Z alphabets assignment to fill out the puzzle later on\n",
    "B=string.ascii_uppercase\n",
    "print(B)"
   ]
  },
  {
   "cell_type": "code",
   "execution_count": 50,
   "metadata": {},
   "outputs": [
    {
     "name": "stdout",
     "output_type": "stream",
     "text": [
      "[['.' '.' '.' '.' '.' '.' '.' '.' '.' '.' '.' '.' '.' '.' '.' '.' '.' '.']\n",
      " ['.' '.' '.' '.' '.' '.' '.' '.' '.' '.' '.' '.' '.' '.' '.' '.' '.' '.']\n",
      " ['.' '.' '.' '.' '.' '.' '.' '.' '.' '.' '.' '.' '.' '.' '.' '.' '.' '.']\n",
      " ['.' '.' '.' '.' '.' '.' '.' '.' '.' '.' '.' '.' '.' '.' '.' '.' '.' '.']\n",
      " ['.' '.' '.' '.' '.' '.' '.' '.' '.' '.' '.' '.' '.' '.' '.' '.' '.' '.']\n",
      " ['.' '.' '.' '.' '.' '.' '.' '.' '.' '.' '.' '.' '.' '.' '.' '.' '.' '.']\n",
      " ['.' '.' '.' '.' '.' '.' '.' '.' '.' '.' '.' '.' '.' '.' '.' '.' '.' '.']\n",
      " ['.' '.' '.' '.' '.' '.' '.' '.' '.' '.' '.' '.' '.' '.' '.' '.' '.' '.']\n",
      " ['.' '.' '.' '.' '.' '.' '.' '.' '.' '.' '.' '.' '.' '.' '.' '.' '.' '.']\n",
      " ['.' '.' '.' '.' '.' '.' '.' '.' '.' '.' '.' '.' '.' '.' '.' '.' '.' '.']\n",
      " ['.' '.' '.' '.' '.' '.' '.' '.' '.' '.' '.' '.' '.' '.' '.' '.' '.' '.']\n",
      " ['.' '.' '.' '.' '.' '.' '.' '.' '.' '.' '.' '.' '.' '.' '.' '.' '.' '.']\n",
      " ['.' '.' '.' '.' '.' '.' '.' '.' '.' '.' '.' '.' '.' '.' '.' '.' '.' '.']\n",
      " ['.' '.' '.' '.' '.' '.' '.' '.' '.' '.' '.' '.' '.' '.' '.' '.' '.' '.']\n",
      " ['.' '.' '.' '.' '.' '.' '.' '.' '.' '.' '.' '.' '.' '.' '.' '.' '.' '.']\n",
      " ['.' '.' '.' '.' '.' '.' '.' '.' '.' '.' '.' '.' '.' '.' '.' '.' '.' '.']\n",
      " ['.' '.' '.' '.' '.' '.' '.' '.' '.' '.' '.' '.' '.' '.' '.' '.' '.' '.']\n",
      " ['.' '.' '.' '.' '.' '.' '.' '.' '.' '.' '.' '.' '.' '.' '.' '.' '.' '.']]\n"
     ]
    }
   ],
   "source": [
    "#Empty 18 x 18 Puzzle\n",
    "Arr= np.full((18,18),\".\")\n",
    "print(Arr)"
   ]
  },
  {
   "cell_type": "code",
   "execution_count": 51,
   "metadata": {},
   "outputs": [
    {
     "name": "stdout",
     "output_type": "stream",
     "text": [
      "[['.' '.' '.' '.' 'I' '.' '.' '.' '.' 'M' '.' 'H' '.' '.' '.' '.' '.' '.']\n",
      " ['.' '.' '.' '.' 'M' '.' '.' '.' '.' 'A' '.' 'A' '.' '.' '.' '.' '.' '.']\n",
      " ['.' '.' '.' '.' 'A' '.' '.' '.' '.' 'T' '.' 'L' '.' '.' '.' '.' '.' '.']\n",
      " ['.' '.' '.' '.' 'G' '.' '.' '.' '.' 'H' '.' 'L' '.' 'N' '.' '.' '.' '.']\n",
      " ['.' '.' '.' '.' 'E' '.' '.' '.' '.' '.' '.' '.' '.' 'O' '.' '.' '.' 'J']\n",
      " ['.' '.' '.' '.' '.' '.' '.' '.' '.' '.' '.' '.' '.' 'S' '.' '.' '.' 'A']\n",
      " ['.' '.' '.' '.' '.' 'L' '.' '.' '.' '.' '.' '.' '.' 'E' '.' '.' '.' 'C']\n",
      " ['.' '.' '.' '.' '.' 'A' 'K' '.' '.' '.' '.' '.' 'O' '.' '.' '.' '.' 'K']\n",
      " ['.' '.' '.' '.' '.' 'U' 'I' '.' '.' '.' '.' '.' 'S' '.' '.' '.' '.' 'L']\n",
      " ['.' '.' '.' '.' '.' 'G' 'S' '.' '.' '.' '.' '.' 'T' '.' '.' '.' '.' 'E']\n",
      " ['.' '.' '.' '.' '.' 'H' 'S' '.' '.' '.' '.' '.' 'R' '.' '.' '.' '.' '.']\n",
      " ['.' '.' '.' '.' '.' '.' '.' '.' '.' '.' '.' '.' 'I' '.' '.' '.' '.' '.']\n",
      " ['.' '.' '.' '.' '.' '.' '.' '.' '.' '.' '.' '.' 'C' '.' '.' '.' '.' '.']\n",
      " ['.' '.' '.' '.' '.' '.' '.' '.' '.' '.' '.' '.' 'H' '.' '.' '.' '.' '.']\n",
      " ['.' '.' '.' '.' '.' '.' '.' '.' '.' '.' '.' '.' '.' '.' '.' '.' '.' '.']\n",
      " ['.' '.' '.' '.' '.' '.' '.' '.' '.' '.' '.' '.' '.' '.' '.' '.' '.' '.']\n",
      " ['.' '.' '.' '.' '.' '.' '.' '.' '.' '.' '.' '.' '.' '.' '.' '.' '.' '.']\n",
      " ['.' '.' '.' '.' '.' '.' '.' '.' '.' '.' '.' '.' '.' '.' '.' '.' '.' '.']]\n"
     ]
    }
   ],
   "source": [
    "#VERTICAL COND1 BEST\n",
    "li=random.sample(range(3,18), 15)\n",
    "for i in range(7,15):\n",
    "    a=word[i]\n",
    "    ale=len(a)\n",
    "    dif=18-ale\n",
    "    cho=random.choice(range(dif))\n",
    "    temp=li[i-7]\n",
    "    for j in range(ale):\n",
    "        Arr[j+cho][temp]=word[i][j]\n",
    "print(Arr) #Sample output of random words from given 15 words"
   ]
  },
  {
   "cell_type": "code",
   "execution_count": 52,
   "metadata": {},
   "outputs": [
    {
     "name": "stdout",
     "output_type": "stream",
     "text": [
      "[['.' '.' '.' '.' 'I' '.' '.' '.' '.' 'M' '.' 'H' '.' '.' '.' '.' '.' '.']\n",
      " ['.' '.' '.' '.' 'M' '.' '.' '.' '.' 'A' '.' 'A' '.' '.' '.' '.' '.' '.']\n",
      " ['.' '.' '.' '.' 'A' '.' '.' '.' '.' 'T' '.' 'L' '.' '.' '.' '.' '.' '.']\n",
      " ['.' '.' '.' '.' 'G' '.' '.' '.' '.' 'H' '.' 'L' '.' 'N' '.' '.' '.' '.']\n",
      " ['.' '.' '.' '.' 'E' '.' '.' '.' '.' '.' '.' '.' '.' 'O' '.' '.' '.' 'J']\n",
      " ['.' '.' 'F' 'R' 'I' 'E' 'N' 'D' '.' '.' '.' '.' '.' 'S' '.' '.' '.' 'A']\n",
      " ['A' 'P' 'P' 'L' 'E' 'L' '.' '.' '.' '.' '.' '.' '.' 'E' '.' '.' '.' 'C']\n",
      " ['.' '.' 'G' 'A' 'S' 'A' 'K' '.' '.' '.' '.' '.' 'O' '.' '.' '.' '.' 'K']\n",
      " ['.' 'B' 'A' 'L' 'L' 'U' 'I' '.' '.' '.' '.' '.' 'S' '.' '.' '.' '.' 'L']\n",
      " ['.' '.' 'D' 'O' 'G' 'G' 'S' '.' '.' '.' '.' '.' 'T' '.' '.' '.' '.' 'E']\n",
      " ['.' '.' 'C' 'A' 'T' 'H' 'S' '.' '.' '.' '.' '.' 'R' '.' '.' '.' '.' '.']\n",
      " ['.' 'E' 'G' 'G' '.' '.' '.' '.' '.' '.' '.' '.' 'I' '.' '.' '.' '.' '.']\n",
      " ['.' '.' '.' '.' '.' '.' '.' '.' '.' '.' '.' '.' 'C' '.' '.' '.' '.' '.']\n",
      " ['.' '.' '.' '.' '.' '.' '.' '.' '.' '.' '.' '.' 'H' '.' '.' '.' '.' '.']\n",
      " ['.' '.' '.' '.' '.' '.' '.' '.' '.' '.' '.' '.' '.' '.' '.' '.' '.' '.']\n",
      " ['.' '.' '.' '.' '.' '.' '.' '.' '.' '.' '.' '.' '.' '.' '.' '.' '.' '.']\n",
      " ['.' '.' '.' '.' '.' '.' '.' '.' '.' '.' '.' '.' '.' '.' '.' '.' '.' '.']\n",
      " ['.' '.' '.' '.' '.' '.' '.' '.' '.' '.' '.' '.' '.' '.' '.' '.' '.' '.']]\n"
     ]
    }
   ],
   "source": [
    "#HOR COND2 BEST\n",
    "wordd=0\n",
    "li=random.sample(range(7),7)\n",
    "for i in range(18):\n",
    "    sam=li[wordd]\n",
    "    a=word[sam]\n",
    "    ale=len(a)\n",
    "    count=0\n",
    "    for l in range(18):\n",
    "        if Arr[i][l]==\".\":\n",
    "            count+=1\n",
    "        else:\n",
    "            break\n",
    "    if count>=ale:\n",
    "        wordd+=1\n",
    "        dif=count-ale\n",
    "        cho=random.choice(range(dif+1))\n",
    "        for j in range(ale):\n",
    "            Arr[i][j+cho]=word[sam][j]\n",
    "    if wordd==7:\n",
    "        break\n",
    "print(Arr) #Sample output of random words from given 15 words"
   ]
  },
  {
   "cell_type": "code",
   "execution_count": 53,
   "metadata": {},
   "outputs": [
    {
     "name": "stdout",
     "output_type": "stream",
     "text": [
      "[['G' 'K' 'E' 'L' 'I' 'M' 'L' 'P' 'I' 'M' 'A' 'H' 'N' 'T' 'Y' 'O' 'V' 'R']\n",
      " ['X' 'X' 'X' 'O' 'M' 'A' 'A' 'Q' 'G' 'A' 'A' 'A' 'E' 'B' 'V' 'C' 'P' 'E']\n",
      " ['I' 'Y' 'O' 'F' 'A' 'V' 'Z' 'P' 'O' 'T' 'Y' 'L' 'T' 'Y' 'P' 'H' 'J' 'M']\n",
      " ['T' 'Y' 'W' 'L' 'G' 'Y' 'A' 'W' 'W' 'H' 'Q' 'L' 'V' 'N' 'W' 'S' 'V' 'D']\n",
      " ['O' 'X' 'K' 'T' 'E' 'Y' 'Q' 'J' 'L' 'S' 'B' 'E' 'M' 'O' 'C' 'M' 'F' 'J']\n",
      " ['F' 'H' 'F' 'R' 'I' 'E' 'N' 'D' 'I' 'J' 'Y' 'L' 'E' 'S' 'G' 'N' 'C' 'A']\n",
      " ['A' 'P' 'P' 'L' 'E' 'L' 'N' 'U' 'Z' 'E' 'D' 'D' 'O' 'E' 'L' 'L' 'Q' 'C']\n",
      " ['T' 'T' 'G' 'A' 'S' 'A' 'K' 'W' 'H' 'D' 'X' 'L' 'O' 'C' 'J' 'T' 'J' 'K']\n",
      " ['X' 'B' 'A' 'L' 'L' 'U' 'I' 'M' 'Y' 'E' 'P' 'B' 'S' 'A' 'N' 'C' 'X' 'L']\n",
      " ['E' 'S' 'D' 'O' 'G' 'G' 'S' 'Z' 'J' 'A' 'N' 'U' 'T' 'Q' 'G' 'G' 'T' 'E']\n",
      " ['R' 'H' 'C' 'A' 'T' 'H' 'S' 'L' 'C' 'U' 'H' 'D' 'R' 'E' 'N' 'C' 'V' 'M']\n",
      " ['O' 'E' 'G' 'G' 'P' 'Q' 'N' 'P' 'F' 'F' 'C' 'S' 'I' 'Y' 'H' 'H' 'B' 'P']\n",
      " ['Z' 'F' 'W' 'N' 'C' 'V' 'E' 'V' 'N' 'D' 'B' 'T' 'C' 'Y' 'W' 'C' 'N' 'W']\n",
      " ['C' 'J' 'A' 'A' 'D' 'F' 'H' 'F' 'X' 'F' 'H' 'D' 'H' 'I' 'E' 'R' 'N' 'H']\n",
      " ['M' 'Q' 'G' 'J' 'Q' 'F' 'O' 'X' 'C' 'V' 'L' 'M' 'J' 'X' 'N' 'T' 'N' 'V']\n",
      " ['B' 'X' 'G' 'I' 'Z' 'U' 'U' 'W' 'U' 'R' 'L' 'W' 'N' 'F' 'N' 'V' 'E' 'F']\n",
      " ['O' 'M' 'B' 'W' 'V' 'C' 'Y' 'O' 'G' 'W' 'J' 'R' 'M' 'Q' 'T' 'P' 'Q' 'H']\n",
      " ['Z' 'J' 'E' 'T' 'R' 'K' 'E' 'C' 'O' 'U' 'R' 'M' 'E' 'G' 'M' 'A' 'P' 'D']]\n"
     ]
    }
   ],
   "source": [
    "#Filling Remaining Blank Spaces and final output\n",
    "for i in range(18):\n",
    "    for j in range(18):\n",
    "            while(Arr[i][j]==\".\"):\n",
    "                Arr[i][j]=random.choice(B)\n",
    "print(Arr) #Final Puzzle"
   ]
  }
 ],
 "metadata": {
  "kernelspec": {
   "display_name": "Python 3",
   "language": "python",
   "name": "python3"
  },
  "language_info": {
   "codemirror_mode": {
    "name": "ipython",
    "version": 3
   },
   "file_extension": ".py",
   "mimetype": "text/x-python",
   "name": "python",
   "nbconvert_exporter": "python",
   "pygments_lexer": "ipython3",
   "version": "3.7.6"
  }
 },
 "nbformat": 4,
 "nbformat_minor": 4
}
