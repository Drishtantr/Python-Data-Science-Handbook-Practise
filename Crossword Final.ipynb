{
 "cells": [
  {
   "cell_type": "code",
   "execution_count": 2,
   "metadata": {},
   "outputs": [],
   "source": [
    "import numpy as np\n",
    "import string\n",
    "import random"
   ]
  },
  {
   "cell_type": "code",
   "execution_count": 161,
   "metadata": {},
   "outputs": [
    {
     "name": "stdout",
     "output_type": "stream",
     "text": [
      "['APPLE', 'BALL', 'CAT', 'DOG', 'EGG', 'FRIEND', 'GAS', 'HALL', 'IMAGE', 'JACKLE', 'KISS', 'LAUGH', 'MATH', 'NOSE', 'OSTRICH']\n"
     ]
    }
   ],
   "source": [
    "word=[\"apple\",\"ball\",\"cat\",\"dog\",\"egg\",\"friend\", \"gas\", \"hall\", \"image\", \"jackle\",\"kiss\",\"laugh\",\"math\",\"nose\",\"ostrich\"]\n",
    "sp=\" \"\n",
    "word=sp.join(word)\n",
    "word=word.upper()\n",
    "word=word.split(\" \")\n",
    "print(word)"
   ]
  },
  {
   "cell_type": "code",
   "execution_count": 162,
   "metadata": {},
   "outputs": [
    {
     "name": "stdout",
     "output_type": "stream",
     "text": [
      "ABCDEFGHIJKLMNOPQRSTUVWXYZ\n"
     ]
    }
   ],
   "source": [
    "B=string.ascii_uppercase\n",
    "print(B)"
   ]
  },
  {
   "cell_type": "code",
   "execution_count": 181,
   "metadata": {},
   "outputs": [
    {
     "name": "stdout",
     "output_type": "stream",
     "text": [
      "[['.' '.' '.' '.' '.' '.' '.' '.' '.' '.' '.' '.' '.' '.' '.' '.' '.' '.']\n",
      " ['.' '.' '.' '.' '.' '.' '.' '.' '.' '.' '.' '.' '.' '.' '.' '.' '.' '.']\n",
      " ['.' '.' '.' '.' '.' '.' '.' '.' '.' '.' '.' '.' '.' '.' '.' '.' '.' '.']\n",
      " ['.' '.' '.' '.' '.' '.' '.' '.' '.' '.' '.' '.' '.' '.' '.' '.' '.' '.']\n",
      " ['.' '.' '.' '.' '.' '.' '.' '.' '.' '.' '.' '.' '.' '.' '.' '.' '.' '.']\n",
      " ['.' '.' '.' '.' '.' '.' '.' '.' '.' '.' '.' '.' '.' '.' '.' '.' '.' '.']\n",
      " ['.' '.' '.' '.' '.' '.' '.' '.' '.' '.' '.' '.' '.' '.' '.' '.' '.' '.']\n",
      " ['.' '.' '.' '.' '.' '.' '.' '.' '.' '.' '.' '.' '.' '.' '.' '.' '.' '.']\n",
      " ['.' '.' '.' '.' '.' '.' '.' '.' '.' '.' '.' '.' '.' '.' '.' '.' '.' '.']\n",
      " ['.' '.' '.' '.' '.' '.' '.' '.' '.' '.' '.' '.' '.' '.' '.' '.' '.' '.']\n",
      " ['.' '.' '.' '.' '.' '.' '.' '.' '.' '.' '.' '.' '.' '.' '.' '.' '.' '.']\n",
      " ['.' '.' '.' '.' '.' '.' '.' '.' '.' '.' '.' '.' '.' '.' '.' '.' '.' '.']\n",
      " ['.' '.' '.' '.' '.' '.' '.' '.' '.' '.' '.' '.' '.' '.' '.' '.' '.' '.']\n",
      " ['.' '.' '.' '.' '.' '.' '.' '.' '.' '.' '.' '.' '.' '.' '.' '.' '.' '.']\n",
      " ['.' '.' '.' '.' '.' '.' '.' '.' '.' '.' '.' '.' '.' '.' '.' '.' '.' '.']\n",
      " ['.' '.' '.' '.' '.' '.' '.' '.' '.' '.' '.' '.' '.' '.' '.' '.' '.' '.']\n",
      " ['.' '.' '.' '.' '.' '.' '.' '.' '.' '.' '.' '.' '.' '.' '.' '.' '.' '.']\n",
      " ['.' '.' '.' '.' '.' '.' '.' '.' '.' '.' '.' '.' '.' '.' '.' '.' '.' '.']]\n"
     ]
    }
   ],
   "source": [
    "Arr= np.full((18,18),\".\")\n",
    "print(Arr)"
   ]
  },
  {
   "cell_type": "code",
   "execution_count": 182,
   "metadata": {},
   "outputs": [
    {
     "name": "stdout",
     "output_type": "stream",
     "text": [
      "[['.' '.' '.' '.' '.' '.' '.' '.' '.' '.' '.' 'I' '.' '.' '.' '.' '.' '.']\n",
      " ['.' '.' '.' '.' 'O' '.' '.' 'M' '.' '.' '.' 'M' '.' '.' '.' '.' '.' '.']\n",
      " ['.' '.' '.' '.' 'S' '.' '.' 'A' '.' '.' '.' 'A' '.' '.' '.' 'N' '.' '.']\n",
      " ['.' '.' '.' '.' 'T' '.' '.' 'T' '.' '.' '.' 'G' '.' '.' '.' 'O' '.' '.']\n",
      " ['.' '.' '.' '.' 'R' '.' '.' 'H' '.' '.' '.' 'E' '.' '.' '.' 'S' '.' '.']\n",
      " ['.' '.' '.' '.' 'I' '.' '.' '.' '.' '.' '.' '.' '.' '.' 'J' 'E' '.' '.']\n",
      " ['.' '.' '.' '.' 'C' '.' '.' '.' '.' '.' '.' '.' '.' '.' 'A' '.' '.' '.']\n",
      " ['.' '.' '.' '.' 'H' '.' '.' '.' '.' '.' '.' '.' '.' '.' 'C' '.' '.' '.']\n",
      " ['.' '.' '.' '.' '.' '.' '.' '.' 'K' 'L' '.' '.' '.' '.' 'K' '.' '.' '.']\n",
      " ['.' '.' '.' '.' '.' '.' '.' '.' 'I' 'A' '.' '.' '.' '.' 'L' '.' '.' '.']\n",
      " ['.' '.' '.' '.' '.' '.' '.' '.' 'S' 'U' '.' '.' '.' '.' 'E' '.' '.' '.']\n",
      " ['.' '.' '.' '.' '.' '.' '.' '.' 'S' 'G' '.' '.' '.' 'H' '.' '.' '.' '.']\n",
      " ['.' '.' '.' '.' '.' '.' '.' '.' '.' 'H' '.' '.' '.' 'A' '.' '.' '.' '.']\n",
      " ['.' '.' '.' '.' '.' '.' '.' '.' '.' '.' '.' '.' '.' 'L' '.' '.' '.' '.']\n",
      " ['.' '.' '.' '.' '.' '.' '.' '.' '.' '.' '.' '.' '.' 'L' '.' '.' '.' '.']\n",
      " ['.' '.' '.' '.' '.' '.' '.' '.' '.' '.' '.' '.' '.' '.' '.' '.' '.' '.']\n",
      " ['.' '.' '.' '.' '.' '.' '.' '.' '.' '.' '.' '.' '.' '.' '.' '.' '.' '.']\n",
      " ['.' '.' '.' '.' '.' '.' '.' '.' '.' '.' '.' '.' '.' '.' '.' '.' '.' '.']]\n"
     ]
    }
   ],
   "source": [
    "#VERTICAL COND1 BEST\n",
    "li=random.sample(range(4,18), 14)\n",
    "for i in range(7,15):\n",
    "    a=word[i]\n",
    "    ale=len(a)\n",
    "    dif=18-ale\n",
    "    cho=random.choice(range(dif))\n",
    "    temp=li[i-7]\n",
    "    nu=random.choice([1,2])\n",
    "    for j in range(ale):\n",
    "        Arr[j+cho][temp]=word[i][j]\n",
    "print(Arr)"
   ]
  },
  {
   "cell_type": "code",
   "execution_count": 183,
   "metadata": {},
   "outputs": [
    {
     "ename": "IndexError",
     "evalue": "list index out of range",
     "output_type": "error",
     "traceback": [
      "\u001b[1;31m---------------------------------------------------------------------------\u001b[0m",
      "\u001b[1;31mIndexError\u001b[0m                                Traceback (most recent call last)",
      "\u001b[1;32m<ipython-input-183-efbf724c9332>\u001b[0m in \u001b[0;36m<module>\u001b[1;34m\u001b[0m\n\u001b[0;32m      5\u001b[0m     \u001b[1;32mif\u001b[0m \u001b[0mwordd\u001b[0m\u001b[1;33m==\u001b[0m\u001b[1;36m7\u001b[0m\u001b[1;33m:\u001b[0m\u001b[1;33m\u001b[0m\u001b[1;33m\u001b[0m\u001b[0m\n\u001b[0;32m      6\u001b[0m         \u001b[1;32mbreak\u001b[0m\u001b[1;33m\u001b[0m\u001b[1;33m\u001b[0m\u001b[0m\n\u001b[1;32m----> 7\u001b[1;33m     \u001b[0msam\u001b[0m\u001b[1;33m=\u001b[0m\u001b[0mli\u001b[0m\u001b[1;33m[\u001b[0m\u001b[0mi\u001b[0m\u001b[1;33m]\u001b[0m\u001b[1;33m\u001b[0m\u001b[1;33m\u001b[0m\u001b[0m\n\u001b[0m\u001b[0;32m      8\u001b[0m     \u001b[0ma\u001b[0m\u001b[1;33m=\u001b[0m\u001b[0mword\u001b[0m\u001b[1;33m[\u001b[0m\u001b[0msam\u001b[0m\u001b[1;33m]\u001b[0m\u001b[1;33m\u001b[0m\u001b[1;33m\u001b[0m\u001b[0m\n\u001b[0;32m      9\u001b[0m     \u001b[0male\u001b[0m\u001b[1;33m=\u001b[0m\u001b[0mlen\u001b[0m\u001b[1;33m(\u001b[0m\u001b[0ma\u001b[0m\u001b[1;33m)\u001b[0m\u001b[1;33m\u001b[0m\u001b[1;33m\u001b[0m\u001b[0m\n",
      "\u001b[1;31mIndexError\u001b[0m: list index out of range"
     ]
    }
   ],
   "source": [
    "#HOR COND2 BEST\n",
    "cou=8\n",
    "wordd=0\n",
    "li=random.sample(range(7),7)\n",
    "for i in range(18):\n",
    "    sam=li[i]\n",
    "    a=word[sam]\n",
    "    ale=len(a)\n",
    "    count=0\n",
    "    for l in range(18):\n",
    "        if Arr[i][l]==\".\":\n",
    "            count+=1\n",
    "        else:\n",
    "            break\n",
    "    if count>=ale:\n",
    "        wordd+=1\n",
    "        dif=count-ale\n",
    "        cho=random.choice(range(dif+1))\n",
    "        for j in range(ale):\n",
    "            Arr[i][j+cho]=word[sam][j]\n",
    "    if wordd==7:\n",
    "        break\n",
    "print(Arr)"
   ]
  },
  {
   "cell_type": "code",
   "execution_count": 151,
   "metadata": {},
   "outputs": [
    {
     "name": "stdout",
     "output_type": "stream",
     "text": [
      "[['Z' 'H' 'D' 'f' 'r' 'i' 'e' 'n' 'd' 'o' 'B' 'R' 'D' 'Y' 'S' 'D' 'B' 'C']\n",
      " ['K' 'G' 'X' 'I' 'S' 'D' 'g' 'a' 's' 's' 'E' 'R' 'T' 'i' 'S' 'Y' 'B' 'H']\n",
      " ['C' 'J' 'B' 'X' 'b' 'a' 'l' 'l' 'S' 't' 'Q' 'T' 'V' 'm' 'O' 'Y' 'K' 'E']\n",
      " ['I' 'S' 'H' 'T' 'd' 'o' 'g' 'h' 'Y' 'r' 'K' 'I' 'C' 'a' 'R' 'H' 'J' 'W']\n",
      " ['e' 'g' 'g' 'U' 'D' 'J' 'X' 'a' 'Y' 'i' 'M' 'R' 'U' 'g' 'A' 'K' 'T' 'F']\n",
      " ['A' 'N' 'L' 'Y' 'c' 'a' 't' 'l' 'C' 'c' 'U' 'N' 'W' 'e' 'R' 'j' 'H' 'I']\n",
      " ['I' 'E' 'a' 'p' 'p' 'l' 'e' 'l' 'A' 'h' 'W' 'P' 'E' 'N' 'K' 'a' 'C' 'Q']\n",
      " ['C' 'E' 'N' 'H' 'U' 'n' 'P' 'G' 'I' 'L' 'Z' 'D' 'G' 'A' 'R' 'c' 'G' 'O']\n",
      " ['C' 'E' 'L' 'A' 'm' 'o' 'E' 'M' 'G' 'F' 'S' 'k' 'L' 'X' 'R' 'k' 'l' 'A']\n",
      " ['F' 'A' 'M' 'L' 'a' 's' 'B' 'U' 'R' 'E' 'T' 'i' 'Q' 'Z' 'W' 'l' 'a' 'Y']\n",
      " ['Y' 'Z' 'L' 'X' 't' 'e' 'Z' 'J' 'V' 'D' 'V' 's' 'G' 'Q' 'K' 'e' 'u' 'C']\n",
      " ['B' 'E' 'R' 'V' 'h' 'C' 'A' 'J' 'G' 'O' 'I' 's' 'B' 'I' 'H' 'P' 'g' 'H']\n",
      " ['J' 'U' 'A' 'N' 'Z' 'C' 'P' 'G' 'Q' 'J' 'Q' 'H' 'Q' 'Z' 'N' 'A' 'h' 'D']\n",
      " ['R' 'A' 'Q' 'C' 'U' 'L' 'L' 'W' 'A' 'O' 'A' 'B' 'A' 'K' 'V' 'S' 'Z' 'B']\n",
      " ['C' 'Z' 'C' 'G' 'U' 'Y' 'A' 'B' 'G' 'O' 'P' 'Z' 'W' 'G' 'T' 'G' 'V' 'W']\n",
      " ['N' 'U' 'F' 'T' 'J' 'J' 'G' 'J' 'R' 'B' 'H' 'L' 'T' 'U' 'J' 'O' 'T' 'U']\n",
      " ['G' 'Y' 'B' 'Y' 'F' 'O' 'D' 'H' 'L' 'G' 'R' 'X' 'P' 'O' 'A' 'C' 'V' 'B']\n",
      " ['L' 'K' 'Q' 'C' 'T' 'T' 'Q' 'S' 'A' 'U' 'U' 'T' 'Y' 'S' 'M' 'A' 'H' 'L']]\n"
     ]
    }
   ],
   "source": [
    "for i in range(18):\n",
    "    for j in range(18):\n",
    "            while(Arr[i][j]==\".\"):\n",
    "                Arr[i][j]=random.choice(B)\n",
    "print(Arr)"
   ]
  },
  {
   "cell_type": "code",
   "execution_count": 135,
   "metadata": {},
   "outputs": [
    {
     "data": {
      "text/plain": [
       "[3, 6, 4, 2, 0, 1, 5]"
      ]
     },
     "execution_count": 135,
     "metadata": {},
     "output_type": "execute_result"
    }
   ],
   "source": [
    "random.sample(range(7),7)"
   ]
  },
  {
   "cell_type": "code",
   "execution_count": 145,
   "metadata": {},
   "outputs": [
    {
     "data": {
      "text/plain": [
       "'ABCDEFGHIJKLMNOPQRSTUVWXYZ'"
      ]
     },
     "execution_count": 145,
     "metadata": {},
     "output_type": "execute_result"
    }
   ],
   "source": [
    "string.ascii_uppercase"
   ]
  },
  {
   "cell_type": "code",
   "execution_count": 156,
   "metadata": {},
   "outputs": [
    {
     "name": "stdout",
     "output_type": "stream",
     "text": [
      "BALL IS LIFE\n"
     ]
    }
   ],
   "source": [
    "b=\"ball is life\"\n",
    "b=b.upper()\n",
    "print(b)"
   ]
  }
 ],
 "metadata": {
  "kernelspec": {
   "display_name": "Python 3",
   "language": "python",
   "name": "python3"
  },
  "language_info": {
   "codemirror_mode": {
    "name": "ipython",
    "version": 3
   },
   "file_extension": ".py",
   "mimetype": "text/x-python",
   "name": "python",
   "nbconvert_exporter": "python",
   "pygments_lexer": "ipython3",
   "version": "3.7.6"
  }
 },
 "nbformat": 4,
 "nbformat_minor": 4
}
